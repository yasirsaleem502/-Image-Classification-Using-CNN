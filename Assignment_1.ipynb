{
  "cells": [
    {
      "cell_type": "markdown",
      "metadata": {
        "id": "ed359823-abb1-425a-9530-c2f00899650b"
      },
      "source": [
        "### Cat Classification Using CNN"
      ],
      "id": "ed359823-abb1-425a-9530-c2f00899650b"
    },
    {
      "cell_type": "code",
      "execution_count": null,
      "metadata": {
        "colab": {
          "base_uri": "https://localhost:8080/"
        },
        "id": "b4a5a9b6-953e-4640-b4ca-c4f89fd9040d",
        "outputId": "2f367c84-d39f-4fec-8893-57d4c4bb209e"
      },
      "outputs": [
        {
          "output_type": "stream",
          "name": "stdout",
          "text": [
            "Drive already mounted at /content/drive; to attempt to forcibly remount, call drive.mount(\"/content/drive\", force_remount=True).\n"
          ]
        }
      ],
      "source": [
        "from google.colab import drive\n",
        "drive.mount('/content/drive')"
      ],
      "id": "b4a5a9b6-953e-4640-b4ca-c4f89fd9040d"
    },
    {
      "cell_type": "code",
      "execution_count": null,
      "metadata": {
        "colab": {
          "base_uri": "https://localhost:8080/"
        },
        "id": "EZv3s0DcNDkD",
        "outputId": "97414edf-b5ee-461d-8216-ce8494ab5f68"
      },
      "outputs": [
        {
          "output_type": "stream",
          "name": "stdout",
          "text": [
            "Looking in indexes: https://pypi.org/simple, https://us-python.pkg.dev/colab-wheels/public/simple/\n",
            "Requirement already satisfied: tensorflow==2.9.1 in /usr/local/lib/python3.7/dist-packages (2.9.1)\n",
            "Requirement already satisfied: libclang>=13.0.0 in /usr/local/lib/python3.7/dist-packages (from tensorflow==2.9.1) (14.0.6)\n",
            "Requirement already satisfied: flatbuffers<2,>=1.12 in /usr/local/lib/python3.7/dist-packages (from tensorflow==2.9.1) (1.12)\n",
            "Requirement already satisfied: tensorflow-estimator<2.10.0,>=2.9.0rc0 in /usr/local/lib/python3.7/dist-packages (from tensorflow==2.9.1) (2.9.0)\n",
            "Requirement already satisfied: packaging in /usr/local/lib/python3.7/dist-packages (from tensorflow==2.9.1) (21.3)\n",
            "Requirement already satisfied: six>=1.12.0 in /usr/local/lib/python3.7/dist-packages (from tensorflow==2.9.1) (1.15.0)\n",
            "Requirement already satisfied: absl-py>=1.0.0 in /usr/local/lib/python3.7/dist-packages (from tensorflow==2.9.1) (1.2.0)\n",
            "Requirement already satisfied: h5py>=2.9.0 in /usr/local/lib/python3.7/dist-packages (from tensorflow==2.9.1) (3.1.0)\n",
            "Requirement already satisfied: astunparse>=1.6.0 in /usr/local/lib/python3.7/dist-packages (from tensorflow==2.9.1) (1.6.3)\n",
            "Requirement already satisfied: protobuf<3.20,>=3.9.2 in /usr/local/lib/python3.7/dist-packages (from tensorflow==2.9.1) (3.17.3)\n",
            "Requirement already satisfied: numpy>=1.20 in /usr/local/lib/python3.7/dist-packages (from tensorflow==2.9.1) (1.21.6)\n",
            "Requirement already satisfied: keras-preprocessing>=1.1.1 in /usr/local/lib/python3.7/dist-packages (from tensorflow==2.9.1) (1.1.2)\n",
            "Requirement already satisfied: setuptools in /usr/local/lib/python3.7/dist-packages (from tensorflow==2.9.1) (57.4.0)\n",
            "Requirement already satisfied: tensorflow-io-gcs-filesystem>=0.23.1 in /usr/local/lib/python3.7/dist-packages (from tensorflow==2.9.1) (0.26.0)\n",
            "Requirement already satisfied: keras<2.10.0,>=2.9.0rc0 in /usr/local/lib/python3.7/dist-packages (from tensorflow==2.9.1) (2.9.0)\n",
            "Requirement already satisfied: termcolor>=1.1.0 in /usr/local/lib/python3.7/dist-packages (from tensorflow==2.9.1) (1.1.0)\n",
            "Requirement already satisfied: google-pasta>=0.1.1 in /usr/local/lib/python3.7/dist-packages (from tensorflow==2.9.1) (0.2.0)\n",
            "Requirement already satisfied: wrapt>=1.11.0 in /usr/local/lib/python3.7/dist-packages (from tensorflow==2.9.1) (1.14.1)\n",
            "Requirement already satisfied: gast<=0.4.0,>=0.2.1 in /usr/local/lib/python3.7/dist-packages (from tensorflow==2.9.1) (0.4.0)\n",
            "Requirement already satisfied: grpcio<2.0,>=1.24.3 in /usr/local/lib/python3.7/dist-packages (from tensorflow==2.9.1) (1.47.0)\n",
            "Requirement already satisfied: tensorboard<2.10,>=2.9 in /usr/local/lib/python3.7/dist-packages (from tensorflow==2.9.1) (2.9.1)\n",
            "Requirement already satisfied: opt-einsum>=2.3.2 in /usr/local/lib/python3.7/dist-packages (from tensorflow==2.9.1) (3.3.0)\n",
            "Requirement already satisfied: typing-extensions>=3.6.6 in /usr/local/lib/python3.7/dist-packages (from tensorflow==2.9.1) (4.1.1)\n",
            "Requirement already satisfied: wheel<1.0,>=0.23.0 in /usr/local/lib/python3.7/dist-packages (from astunparse>=1.6.0->tensorflow==2.9.1) (0.37.1)\n",
            "Requirement already satisfied: cached-property in /usr/local/lib/python3.7/dist-packages (from h5py>=2.9.0->tensorflow==2.9.1) (1.5.2)\n",
            "Requirement already satisfied: tensorboard-data-server<0.7.0,>=0.6.0 in /usr/local/lib/python3.7/dist-packages (from tensorboard<2.10,>=2.9->tensorflow==2.9.1) (0.6.1)\n",
            "Requirement already satisfied: markdown>=2.6.8 in /usr/local/lib/python3.7/dist-packages (from tensorboard<2.10,>=2.9->tensorflow==2.9.1) (3.4.1)\n",
            "Requirement already satisfied: google-auth<3,>=1.6.3 in /usr/local/lib/python3.7/dist-packages (from tensorboard<2.10,>=2.9->tensorflow==2.9.1) (1.35.0)\n",
            "Requirement already satisfied: tensorboard-plugin-wit>=1.6.0 in /usr/local/lib/python3.7/dist-packages (from tensorboard<2.10,>=2.9->tensorflow==2.9.1) (1.8.1)\n",
            "Requirement already satisfied: werkzeug>=1.0.1 in /usr/local/lib/python3.7/dist-packages (from tensorboard<2.10,>=2.9->tensorflow==2.9.1) (1.0.1)\n",
            "Requirement already satisfied: requests<3,>=2.21.0 in /usr/local/lib/python3.7/dist-packages (from tensorboard<2.10,>=2.9->tensorflow==2.9.1) (2.23.0)\n",
            "Requirement already satisfied: google-auth-oauthlib<0.5,>=0.4.1 in /usr/local/lib/python3.7/dist-packages (from tensorboard<2.10,>=2.9->tensorflow==2.9.1) (0.4.6)\n",
            "Requirement already satisfied: cachetools<5.0,>=2.0.0 in /usr/local/lib/python3.7/dist-packages (from google-auth<3,>=1.6.3->tensorboard<2.10,>=2.9->tensorflow==2.9.1) (4.2.4)\n",
            "Requirement already satisfied: pyasn1-modules>=0.2.1 in /usr/local/lib/python3.7/dist-packages (from google-auth<3,>=1.6.3->tensorboard<2.10,>=2.9->tensorflow==2.9.1) (0.2.8)\n",
            "Requirement already satisfied: rsa<5,>=3.1.4 in /usr/local/lib/python3.7/dist-packages (from google-auth<3,>=1.6.3->tensorboard<2.10,>=2.9->tensorflow==2.9.1) (4.9)\n",
            "Requirement already satisfied: requests-oauthlib>=0.7.0 in /usr/local/lib/python3.7/dist-packages (from google-auth-oauthlib<0.5,>=0.4.1->tensorboard<2.10,>=2.9->tensorflow==2.9.1) (1.3.1)\n",
            "Requirement already satisfied: importlib-metadata>=4.4 in /usr/local/lib/python3.7/dist-packages (from markdown>=2.6.8->tensorboard<2.10,>=2.9->tensorflow==2.9.1) (4.12.0)\n",
            "Requirement already satisfied: zipp>=0.5 in /usr/local/lib/python3.7/dist-packages (from importlib-metadata>=4.4->markdown>=2.6.8->tensorboard<2.10,>=2.9->tensorflow==2.9.1) (3.8.1)\n",
            "Requirement already satisfied: pyasn1<0.5.0,>=0.4.6 in /usr/local/lib/python3.7/dist-packages (from pyasn1-modules>=0.2.1->google-auth<3,>=1.6.3->tensorboard<2.10,>=2.9->tensorflow==2.9.1) (0.4.8)\n",
            "Requirement already satisfied: chardet<4,>=3.0.2 in /usr/local/lib/python3.7/dist-packages (from requests<3,>=2.21.0->tensorboard<2.10,>=2.9->tensorflow==2.9.1) (3.0.4)\n",
            "Requirement already satisfied: certifi>=2017.4.17 in /usr/local/lib/python3.7/dist-packages (from requests<3,>=2.21.0->tensorboard<2.10,>=2.9->tensorflow==2.9.1) (2022.6.15)\n",
            "Requirement already satisfied: urllib3!=1.25.0,!=1.25.1,<1.26,>=1.21.1 in /usr/local/lib/python3.7/dist-packages (from requests<3,>=2.21.0->tensorboard<2.10,>=2.9->tensorflow==2.9.1) (1.24.3)\n",
            "Requirement already satisfied: idna<3,>=2.5 in /usr/local/lib/python3.7/dist-packages (from requests<3,>=2.21.0->tensorboard<2.10,>=2.9->tensorflow==2.9.1) (2.10)\n",
            "Requirement already satisfied: oauthlib>=3.0.0 in /usr/local/lib/python3.7/dist-packages (from requests-oauthlib>=0.7.0->google-auth-oauthlib<0.5,>=0.4.1->tensorboard<2.10,>=2.9->tensorflow==2.9.1) (3.2.0)\n",
            "Requirement already satisfied: pyparsing!=3.0.5,>=2.0.2 in /usr/local/lib/python3.7/dist-packages (from packaging->tensorflow==2.9.1) (3.0.9)\n"
          ]
        }
      ],
      "source": [
        "!pip install tensorflow==2.9.1\n"
      ],
      "id": "EZv3s0DcNDkD"
    },
    {
      "cell_type": "code",
      "execution_count": null,
      "metadata": {
        "colab": {
          "base_uri": "https://localhost:8080/"
        },
        "id": "JA2X3-LpND1R",
        "outputId": "98ff82d1-3678-45ed-94e0-ef00aa6b53d9"
      },
      "outputs": [
        {
          "output_type": "stream",
          "name": "stdout",
          "text": [
            "2.9.1\n"
          ]
        }
      ],
      "source": [
        "import tensorflow as tf\n",
        "print(tf.__version__)"
      ],
      "id": "JA2X3-LpND1R"
    },
    {
      "cell_type": "code",
      "execution_count": null,
      "metadata": {
        "id": "tY0k03pn818L",
        "colab": {
          "base_uri": "https://localhost:8080/"
        },
        "outputId": "aff7990b-3011-4f28-a0e7-212854c1dca4"
      },
      "outputs": [
        {
          "output_type": "stream",
          "name": "stdout",
          "text": [
            "2.9.0\n"
          ]
        }
      ],
      "source": [
        "import keras as keras\n",
        "print(keras.__version__)"
      ],
      "id": "tY0k03pn818L"
    },
    {
      "cell_type": "markdown",
      "source": [
        "**Cat Classification with feed forward neural netwrok **\n",
        "\n"
      ],
      "metadata": {
        "id": "L6eHbZtz7960"
      },
      "id": "L6eHbZtz7960"
    },
    {
      "cell_type": "code",
      "source": [
        "from keras.models import Sequential\n",
        "from keras.layers import Dense, Activation, Dropout\n",
        "from keras.optimizers import Adam, RMSprop, SGD, RMSprop\n",
        "import numpy as np\n",
        "import pandas as pd\n",
        "import matplotlib.pyplot as plt\n",
        "import h5py\n",
        "\n",
        "%matplotlib inline\n",
        "np.random.seed(1)"
      ],
      "metadata": {
        "id": "SNkVc7QQ0ZAn"
      },
      "id": "SNkVc7QQ0ZAn",
      "execution_count": null,
      "outputs": []
    },
    {
      "cell_type": "code",
      "source": [
        "plt.rcParams['figure.figsize'] = (8.0, 8.0) # set default size of plots\n",
        "plt.rcParams['image.interpolation'] = 'nearest'\n",
        "plt.rcParams['image.cmap'] = 'gray'\n",
        "\n",
        "np.random.seed(1)"
      ],
      "metadata": {
        "id": "fs1gaJHu0Y9t"
      },
      "id": "fs1gaJHu0Y9t",
      "execution_count": null,
      "outputs": []
    },
    {
      "cell_type": "code",
      "source": [
        "parent_path = '/content/drive/MyDrive/Deep Learning Course/data'"
      ],
      "metadata": {
        "id": "OkpOGNFf0Y4l"
      },
      "id": "OkpOGNFf0Y4l",
      "execution_count": null,
      "outputs": []
    },
    {
      "cell_type": "code",
      "source": [
        "train_dataset = h5py.File(parent_path+'/train.h5', \"r\")\n",
        "\n",
        "train_set_x_orig = np.array(train_dataset[\"train_set_x\"][:]) # train set features\n",
        "train_set_y_orig = np.array(train_dataset[\"train_set_y\"][:]) # train set labels\n",
        "\n",
        "print('shape of x_train dataset ',train_set_x_orig.shape)\n",
        "print('dimensions of x_train dataset ',train_set_x_orig.ndim)\n",
        "\n",
        "\n",
        "print('shape of y_train dataset ',train_set_y_orig.shape)\n",
        "print('dimensions of y_train dataset ',train_set_y_orig.ndim)"
      ],
      "metadata": {
        "colab": {
          "base_uri": "https://localhost:8080/"
        },
        "id": "nzEjtotu0Y19",
        "outputId": "d159f638-4d98-43ab-bd66-82f7dbf4acfc"
      },
      "id": "nzEjtotu0Y19",
      "execution_count": null,
      "outputs": [
        {
          "output_type": "stream",
          "name": "stdout",
          "text": [
            "shape of x_train dataset  (209, 64, 64, 3)\n",
            "dimensions of x_train dataset  4\n",
            "shape of y_train dataset  (209,)\n",
            "dimensions of y_train dataset  1\n"
          ]
        }
      ]
    },
    {
      "cell_type": "code",
      "source": [
        "test_dataset = h5py.File(parent_path+'/test.h5', \"r\")\n",
        "\n",
        "test_set_x_orig = np.array(test_dataset[\"test_set_x\"][:]) # test set features\n",
        "test_set_y_orig = np.array(test_dataset[\"test_set_y\"][:]) # test set labels\n",
        "\n",
        "print('shape of x_test dataset ',test_set_x_orig.shape)\n",
        "print('dimensions of x_test dataset ',test_set_x_orig.ndim)\n",
        "\n",
        "print('shape of y_test dataset ',test_set_y_orig.shape)\n",
        "print('dimensions of y_test dataset ',test_set_y_orig.ndim)"
      ],
      "metadata": {
        "colab": {
          "base_uri": "https://localhost:8080/"
        },
        "id": "c0CtmU1y0YzV",
        "outputId": "02773fa1-2fb5-4c22-ad2f-06c678a5c713"
      },
      "id": "c0CtmU1y0YzV",
      "execution_count": null,
      "outputs": [
        {
          "output_type": "stream",
          "name": "stdout",
          "text": [
            "shape of x_test dataset  (50, 64, 64, 3)\n",
            "dimensions of x_test dataset  4\n",
            "shape of y_test dataset  (50,)\n",
            "dimensions of y_test dataset  1\n"
          ]
        }
      ]
    },
    {
      "cell_type": "code",
      "source": [
        "train_set_y = train_set_y_orig.reshape((1, train_set_y_orig.shape[0]))\n",
        "test_set_y = test_set_y_orig.reshape((1, test_set_y_orig.shape[0]))\n",
        "print(train_set_y.shape)\n",
        "print(test_set_y.shape)"
      ],
      "metadata": {
        "colab": {
          "base_uri": "https://localhost:8080/"
        },
        "id": "JmRK1Bup0Yww",
        "outputId": "13c2ce8d-2d8b-4995-92f5-20736442979e"
      },
      "id": "JmRK1Bup0Yww",
      "execution_count": null,
      "outputs": [
        {
          "output_type": "stream",
          "name": "stdout",
          "text": [
            "(1, 209)\n",
            "(1, 50)\n"
          ]
        }
      ]
    },
    {
      "cell_type": "code",
      "source": [
        "classes = np.array(test_dataset[\"list_classes\"][:]) # the list of classes\n",
        "classes"
      ],
      "metadata": {
        "colab": {
          "base_uri": "https://localhost:8080/"
        },
        "id": "jpFB9PwD6ldg",
        "outputId": "5375805a-f37e-4942-c17c-b1f23f0dc7d4"
      },
      "id": "jpFB9PwD6ldg",
      "execution_count": null,
      "outputs": [
        {
          "output_type": "execute_result",
          "data": {
            "text/plain": [
              "array([b'non-cat', b'cat'], dtype='|S7')"
            ]
          },
          "metadata": {},
          "execution_count": 12
        }
      ]
    },
    {
      "cell_type": "code",
      "source": [
        "index = 109\n",
        "plt.imshow(train_set_x_orig[index])\n",
        "print (\"y = \" + str(train_set_y[:, index]) + \", it's a '\" + classes[np.squeeze(train_set_y[:, index])].decode(\"utf-8\") +  \"' picture.\")"
      ],
      "metadata": {
        "colab": {
          "base_uri": "https://localhost:8080/",
          "height": 500
        },
        "id": "tsTVkj480YuC",
        "outputId": "d466b444-d738-42d4-d0bb-174558c302eb"
      },
      "id": "tsTVkj480YuC",
      "execution_count": null,
      "outputs": [
        {
          "output_type": "stream",
          "name": "stdout",
          "text": [
            "y = [1], it's a 'cat' picture.\n"
          ]
        },
        {
          "output_type": "display_data",
          "data": {
            "text/plain": [
              "<Figure size 576x576 with 1 Axes>"
            ],
            "image/png": "[encoded data removed]"
          },
          "metadata": {
            "needs_background": "light"
          }
        }
      ]
    },
    {
      "cell_type": "code",
      "source": [
        "print (\"train_set_x shape: \" + str(train_set_x_orig.shape))\n",
        "print (\"train_set_y shape: \" + str(train_set_y.shape))\n",
        "print (\"test_set_x shape: \" + str(test_set_x_orig.shape))\n",
        "print (\"test_set_y shape: \" + str(test_set_y.shape))"
      ],
      "metadata": {
        "colab": {
          "base_uri": "https://localhost:8080/"
        },
        "id": "hpDjBfN90YrD",
        "outputId": "faac1add-8e77-4571-d7f1-6499ef29acd8"
      },
      "id": "hpDjBfN90YrD",
      "execution_count": null,
      "outputs": [
        {
          "output_type": "stream",
          "name": "stdout",
          "text": [
            "train_set_x shape: (209, 64, 64, 3)\n",
            "train_set_y shape: (1, 209)\n",
            "test_set_x shape: (50, 64, 64, 3)\n",
            "test_set_y shape: (1, 50)\n"
          ]
        }
      ]
    },
    {
      "cell_type": "code",
      "source": [
        "m_train = train_set_x_orig.shape[0]\n",
        "m_test = test_set_x_orig.shape[0]\n",
        "num_px = train_set_x_orig.shape[1]\n",
        "\n",
        "print (\"Dataset dimensions:\")\n",
        "print (\"Number of training examples: m_train = \" + str(m_train))\n",
        "print (\"Number of testing examples: m_test = \" + str(m_test))\n",
        "print (\"Height/Width of each image: num_px = \" + str(num_px))\n",
        "print (\"Each image is of size: (\" + str(num_px) + \", \" + str(num_px) + \", 3)\")"
      ],
      "metadata": {
        "colab": {
          "base_uri": "https://localhost:8080/"
        },
        "id": "WVaN4TD70Yn0",
        "outputId": "a40dbe11-1354-425e-f8f4-d6effe33cf6a"
      },
      "id": "WVaN4TD70Yn0",
      "execution_count": null,
      "outputs": [
        {
          "output_type": "stream",
          "name": "stdout",
          "text": [
            "Dataset dimensions:\n",
            "Number of training examples: m_train = 209\n",
            "Number of testing examples: m_test = 50\n",
            "Height/Width of each image: num_px = 64\n",
            "Each image is of size: (64, 64, 3)\n"
          ]
        }
      ]
    },
    {
      "cell_type": "code",
      "source": [
        "\n",
        "train_set_x_flatten = train_set_x_orig.reshape(train_set_x_orig.shape[0], -1)\n",
        "test_set_x_flatten = test_set_x_orig.reshape(test_set_x_orig.shape[0], -1)\n",
        "train_set_y = train_set_y.T\n",
        "test_set_y = test_set_y.T\n",
        "\n",
        "print (\"train_set_x_flatten shape: \" + str(train_set_x_flatten.shape))\n",
        "print (\"train_set_y shape: \" + str(train_set_y.shape))\n",
        "print (\"test_set_x_flatten shape: \" + str(test_set_x_flatten.shape))\n",
        "print (\"test_set_y shape: \" + str(test_set_y.shape))"
      ],
      "metadata": {
        "colab": {
          "base_uri": "https://localhost:8080/"
        },
        "id": "2I8bOO6y1VjD",
        "outputId": "f3217d78-8062-4707-d4bb-c7e6dc108d4a"
      },
      "id": "2I8bOO6y1VjD",
      "execution_count": null,
      "outputs": [
        {
          "output_type": "stream",
          "name": "stdout",
          "text": [
            "train_set_x_flatten shape: (209, 12288)\n",
            "train_set_y shape: (209, 1)\n",
            "test_set_x_flatten shape: (50, 12288)\n",
            "test_set_y shape: (50, 1)\n"
          ]
        }
      ]
    },
    {
      "cell_type": "code",
      "source": [
        "train_set_x = train_set_x_flatten/255.\n",
        "test_set_x = test_set_x_flatten/255."
      ],
      "metadata": {
        "id": "l1fM9Q0R1Vgu"
      },
      "id": "l1fM9Q0R1Vgu",
      "execution_count": null,
      "outputs": []
    },
    {
      "cell_type": "code",
      "source": [
        "# Utility function\n",
        "def evaluate_this_model(model):\n",
        "    history = model.fit(train_set_x, train_set_y, epochs=50, verbose=True)\n",
        "    results = model.evaluate(test_set_x, test_set_y)\n",
        "    #x = model.predict_classes(test_set_x)\n",
        "\n",
        "    plt.plot(np.squeeze(history.history[\"loss\"]))\n",
        "    plt.ylabel('cost')\n",
        "    plt.xlabel('iterations (per tens)')\n",
        "    plt.title(\"Learning rate =\" + str(learning_rate))\n",
        "    plt.show()\n",
        "    \n",
        "    print(\"\\n\\nAccuracy on training set is {}\".format(history.history[\"accuracy\"][-1]))\n",
        "    print(\"\\nAccuracy on test set is {}\".format(results[1]))\n",
        "    #print(\" model predictions :\",x)"
      ],
      "metadata": {
        "id": "2K2-UgOH1VbY"
      },
      "id": "2K2-UgOH1VbY",
      "execution_count": null,
      "outputs": []
    },
    {
      "cell_type": "code",
      "source": [
        "model = Sequential()\n",
        "\n",
        "model.add(Dense(25, activation='relu', input_dim=train_set_x_flatten.shape[1]))\n",
        "model.add(Dense(30, activation='relu'))\n",
        "model.add(Dense(20, activation='relu'))\n",
        "model.add(Dense(10, activation='relu'))\n",
        "model.add(Dense(5, activation='relu'))\n",
        "model.add(Dense(1, activation='sigmoid'))"
      ],
      "metadata": {
        "id": "4O9vc6A21VZy"
      },
      "id": "4O9vc6A21VZy",
      "execution_count": null,
      "outputs": []
    },
    {
      "cell_type": "code",
      "source": [
        "learning_rate = 0.0001\n",
        "opt = Adam(lr=learning_rate)\n",
        "model.compile(optimizer=opt,\n",
        "              loss='binary_crossentropy',\n",
        "              metrics=['accuracy'])"
      ],
      "metadata": {
        "colab": {
          "base_uri": "https://localhost:8080/"
        },
        "id": "0oP4Kup91VV5",
        "outputId": "264919f9-ac7b-496b-e0a1-290ac790abc7"
      },
      "id": "0oP4Kup91VV5",
      "execution_count": null,
      "outputs": [
        {
          "output_type": "stream",
          "name": "stderr",
          "text": [
            "/usr/local/lib/python3.7/dist-packages/keras/optimizers/optimizer_v2/adam.py:110: UserWarning: The `lr` argument is deprecated, use `learning_rate` instead.\n",
            "  super(Adam, self).__init__(name, **kwargs)\n"
          ]
        }
      ]
    },
    {
      "cell_type": "code",
      "source": [
        "h = evaluate_this_model(model)"
      ],
      "metadata": {
        "colab": {
          "base_uri": "https://localhost:8080/",
          "height": 1000
        },
        "id": "qjjTY2031VTb",
        "outputId": "4748b0ed-f4db-4929-de83-a6881c9a3b96"
      },
      "id": "qjjTY2031VTb",
      "execution_count": null,
      "outputs": [
        {
          "output_type": "stream",
          "name": "stdout",
          "text": [
            "Epoch 1/50\n",
            "7/7 [==============================] - 1s 10ms/step - loss: 0.6877 - accuracy: 0.5885\n",
            "Epoch 2/50\n",
            "7/7 [==============================] - 0s 7ms/step - loss: 0.6586 - accuracy: 0.6555\n",
            "Epoch 3/50\n",
            "7/7 [==============================] - 0s 7ms/step - loss: 0.6487 - accuracy: 0.6555\n",
            "Epoch 4/50\n",
            "7/7 [==============================] - 0s 7ms/step - loss: 0.6407 - accuracy: 0.6555\n",
            "Epoch 5/50\n",
            "7/7 [==============================] - 0s 7ms/step - loss: 0.6354 - accuracy: 0.6555\n",
            "Epoch 6/50\n",
            "7/7 [==============================] - 0s 8ms/step - loss: 0.6360 - accuracy: 0.6555\n",
            "Epoch 7/50\n",
            "7/7 [==============================] - 0s 7ms/step - loss: 0.6273 - accuracy: 0.6555\n",
            "Epoch 8/50\n",
            "7/7 [==============================] - 0s 7ms/step - loss: 0.6192 - accuracy: 0.6555\n",
            "Epoch 9/50\n",
            "7/7 [==============================] - 0s 8ms/step - loss: 0.6105 - accuracy: 0.6555\n",
            "Epoch 10/50\n",
            "7/7 [==============================] - 0s 7ms/step - loss: 0.6082 - accuracy: 0.6555\n",
            "Epoch 11/50\n",
            "7/7 [==============================] - 0s 7ms/step - loss: 0.6030 - accuracy: 0.6555\n",
            "Epoch 12/50\n",
            "7/7 [==============================] - 0s 8ms/step - loss: 0.5953 - accuracy: 0.6555\n",
            "Epoch 13/50\n",
            "7/7 [==============================] - 0s 8ms/step - loss: 0.5858 - accuracy: 0.6651\n",
            "Epoch 14/50\n",
            "7/7 [==============================] - 0s 7ms/step - loss: 0.5848 - accuracy: 0.6603\n",
            "Epoch 15/50\n",
            "7/7 [==============================] - 0s 7ms/step - loss: 0.5714 - accuracy: 0.6746\n",
            "Epoch 16/50\n",
            "7/7 [==============================] - 0s 8ms/step - loss: 0.5627 - accuracy: 0.7033\n",
            "Epoch 17/50\n",
            "7/7 [==============================] - 0s 8ms/step - loss: 0.5470 - accuracy: 0.7225\n",
            "Epoch 18/50\n",
            "7/7 [==============================] - 0s 7ms/step - loss: 0.5384 - accuracy: 0.7368\n",
            "Epoch 19/50\n",
            "7/7 [==============================] - 0s 7ms/step - loss: 0.5362 - accuracy: 0.7129\n",
            "Epoch 20/50\n",
            "7/7 [==============================] - 0s 7ms/step - loss: 0.5203 - accuracy: 0.7416\n",
            "Epoch 21/50\n",
            "7/7 [==============================] - 0s 8ms/step - loss: 0.5137 - accuracy: 0.7273\n",
            "Epoch 22/50\n",
            "7/7 [==============================] - 0s 7ms/step - loss: 0.5224 - accuracy: 0.7225\n",
            "Epoch 23/50\n",
            "7/7 [==============================] - 0s 7ms/step - loss: 0.5192 - accuracy: 0.8278\n",
            "Epoch 24/50\n",
            "7/7 [==============================] - 0s 12ms/step - loss: 0.5060 - accuracy: 0.7081\n",
            "Epoch 25/50\n",
            "7/7 [==============================] - 0s 7ms/step - loss: 0.4849 - accuracy: 0.8230\n",
            "Epoch 26/50\n",
            "7/7 [==============================] - 0s 7ms/step - loss: 0.4735 - accuracy: 0.8038\n",
            "Epoch 27/50\n",
            "7/7 [==============================] - 0s 8ms/step - loss: 0.4684 - accuracy: 0.8038\n",
            "Epoch 28/50\n",
            "7/7 [==============================] - 0s 7ms/step - loss: 0.4677 - accuracy: 0.8421\n",
            "Epoch 29/50\n",
            "7/7 [==============================] - 0s 7ms/step - loss: 0.4599 - accuracy: 0.8086\n",
            "Epoch 30/50\n",
            "7/7 [==============================] - 0s 7ms/step - loss: 0.4604 - accuracy: 0.7847\n",
            "Epoch 31/50\n",
            "7/7 [==============================] - 0s 7ms/step - loss: 0.4582 - accuracy: 0.8565\n",
            "Epoch 32/50\n",
            "7/7 [==============================] - 0s 7ms/step - loss: 0.4320 - accuracy: 0.8517\n",
            "Epoch 33/50\n",
            "7/7 [==============================] - 0s 7ms/step - loss: 0.4259 - accuracy: 0.8756\n",
            "Epoch 34/50\n",
            "7/7 [==============================] - 0s 7ms/step - loss: 0.4188 - accuracy: 0.8612\n",
            "Epoch 35/50\n",
            "7/7 [==============================] - 0s 7ms/step - loss: 0.4091 - accuracy: 0.8612\n",
            "Epoch 36/50\n",
            "7/7 [==============================] - 0s 10ms/step - loss: 0.4072 - accuracy: 0.8900\n",
            "Epoch 37/50\n",
            "7/7 [==============================] - 0s 7ms/step - loss: 0.4129 - accuracy: 0.8373\n",
            "Epoch 38/50\n",
            "7/7 [==============================] - 0s 7ms/step - loss: 0.3958 - accuracy: 0.8708\n",
            "Epoch 39/50\n",
            "7/7 [==============================] - 0s 7ms/step - loss: 0.3823 - accuracy: 0.8852\n",
            "Epoch 40/50\n",
            "7/7 [==============================] - 0s 7ms/step - loss: 0.3787 - accuracy: 0.9091\n",
            "Epoch 41/50\n",
            "7/7 [==============================] - 0s 8ms/step - loss: 0.3755 - accuracy: 0.8947\n",
            "Epoch 42/50\n",
            "7/7 [==============================] - 0s 8ms/step - loss: 0.3676 - accuracy: 0.8756\n",
            "Epoch 43/50\n",
            "7/7 [==============================] - 0s 8ms/step - loss: 0.3605 - accuracy: 0.9091\n",
            "Epoch 44/50\n",
            "7/7 [==============================] - 0s 10ms/step - loss: 0.3627 - accuracy: 0.8852\n",
            "Epoch 45/50\n",
            "7/7 [==============================] - 0s 7ms/step - loss: 0.3418 - accuracy: 0.9187\n",
            "Epoch 46/50\n",
            "7/7 [==============================] - 0s 7ms/step - loss: 0.3367 - accuracy: 0.9043\n",
            "Epoch 47/50\n",
            "7/7 [==============================] - 0s 7ms/step - loss: 0.3305 - accuracy: 0.9282\n",
            "Epoch 48/50\n",
            "7/7 [==============================] - 0s 7ms/step - loss: 0.3257 - accuracy: 0.9234\n",
            "Epoch 49/50\n",
            "7/7 [==============================] - 0s 7ms/step - loss: 0.3201 - accuracy: 0.9139\n",
            "Epoch 50/50\n",
            "7/7 [==============================] - 0s 7ms/step - loss: 0.3258 - accuracy: 0.8900\n",
            "2/2 [==============================] - 0s 8ms/step - loss: 0.5804 - accuracy: 0.7400\n"
          ]
        },
        {
          "output_type": "display_data",
          "data": {
            "text/plain": [
              "<Figure size 576x576 with 1 Axes>"
            ],
            "image/png": "[encoded data removed]"
          },
          "metadata": {
            "needs_background": "light"
          }
        },
        {
          "output_type": "stream",
          "name": "stdout",
          "text": [
            "\n",
            "\n",
            "Accuracy on training set is 0.8899521827697754\n",
            "\n",
            "Accuracy on test set is 0.7400000095367432\n"
          ]
        }
      ]
    },
    {
      "cell_type": "code",
      "source": [
        "model.summary()"
      ],
      "metadata": {
        "colab": {
          "base_uri": "https://localhost:8080/"
        },
        "id": "r4kyQYb31VP9",
        "outputId": "facba392-c30d-4d38-e187-10294f1a971a"
      },
      "id": "r4kyQYb31VP9",
      "execution_count": null,
      "outputs": [
        {
          "output_type": "stream",
          "name": "stdout",
          "text": [
            "Model: \"sequential_1\"\n",
            "_________________________________________________________________\n",
            " Layer (type)                Output Shape              Param #   \n",
            "=================================================================\n",
            " dense_6 (Dense)             (None, 25)                307225    \n",
            "                                                                 \n",
            " dense_7 (Dense)             (None, 30)                780       \n",
            "                                                                 \n",
            " dense_8 (Dense)             (None, 20)                620       \n",
            "                                                                 \n",
            " dense_9 (Dense)             (None, 10)                210       \n",
            "                                                                 \n",
            " dense_10 (Dense)            (None, 5)                 55        \n",
            "                                                                 \n",
            " dense_11 (Dense)            (None, 1)                 6         \n",
            "                                                                 \n",
            "=================================================================\n",
            "Total params: 308,896\n",
            "Trainable params: 308,896\n",
            "Non-trainable params: 0\n",
            "_________________________________________________________________\n"
          ]
        }
      ]
    },
    {
      "cell_type": "markdown",
      "source": [
        "Cat classification with CCN **algorithm**"
      ],
      "metadata": {
        "id": "RWDSNgkb8UtF"
      },
      "id": "RWDSNgkb8UtF"
    },
    {
      "cell_type": "code",
      "execution_count": null,
      "metadata": {
        "id": "NYpGBMwpIz9f"
      },
      "outputs": [],
      "source": [
        "from keras.models import Sequential\n",
        "from keras.layers import Dense, Convolution2D, Flatten, MaxPooling2D, Activation, Dropout\n",
        "from keras.optimizers import Adam, RMSprop, SGD\n",
        "from keras.losses import BinaryCrossentropy\n",
        "import numpy as np\n",
        "import pandas as pd\n",
        "import matplotlib.pyplot as plt\n",
        "import h5py\n",
        "\n",
        "%matplotlib inline"
      ],
      "id": "NYpGBMwpIz9f"
    },
    {
      "cell_type": "code",
      "execution_count": null,
      "metadata": {
        "colab": {
          "base_uri": "https://localhost:8080/",
          "height": 70
        },
        "id": "KiJK0qu1UHEJ",
        "outputId": "6d3c94ee-bbec-4d98-b88d-f3f806ecae7a"
      },
      "outputs": [
        {
          "output_type": "execute_result",
          "data": {
            "text/plain": [
              "'import tensorflow as tf\\nfrom tensorflow.keras.losses import BinaryCrossentropy\\nfrom tensorflow.keras import Sequential\\nfrom tensorflow.keras.layers import Dense, Conv2D, Flatten, MaxPool2D, Activation\\nfrom tensorflow.keras.optimizers import Adam\\nimport numpy as np\\nimport pandas as pd\\nimport matplotlib.pyplot as plt\\nimport h5py\\nimport random\\n\\n%matplotlib inline'"
            ],
            "application/vnd.google.colaboratory.intrinsic+json": {
              "type": "string"
            }
          },
          "metadata": {},
          "execution_count": 29
        }
      ],
      "source": [
        "'''import tensorflow as tf\n",
        "from tensorflow.keras.losses import BinaryCrossentropy\n",
        "from tensorflow.keras import Sequential\n",
        "from tensorflow.keras.layers import Dense, Conv2D, Flatten, MaxPool2D, Activation\n",
        "from tensorflow.keras.optimizers import Adam\n",
        "import numpy as np\n",
        "import pandas as pd\n",
        "import matplotlib.pyplot as plt\n",
        "import h5py\n",
        "import random\n",
        "\n",
        "%matplotlib inline'''\n"
      ],
      "id": "KiJK0qu1UHEJ"
    },
    {
      "cell_type": "code",
      "execution_count": null,
      "metadata": {
        "id": "h1DBpSVjPJDz"
      },
      "outputs": [],
      "source": [
        "seed_value= 42\n",
        "import os\n",
        "os.environ['PYTHONHASHSEED']=str(seed_value-1)\n",
        "import random\n",
        "random.seed(seed_value)\n",
        "import numpy as np\n",
        "np.random.seed(seed_value+1)\n",
        "import tensorflow as tf\n",
        "tf.compat.v1.set_random_seed(seed_value+2)\n",
        "from keras import backend as K\n",
        "\n",
        "session_conf = tf.compat.v1.ConfigProto(intra_op_parallelism_threads=1, inter_op_parallelism_threads=1)\n",
        "\n",
        "sess = tf.compat.v1.Session(graph=tf.compat.v1.get_default_graph(), config=session_conf)\n",
        "\n",
        "tf.compat.v1.keras.backend.set_session(sess)"
      ],
      "id": "h1DBpSVjPJDz"
    },
    {
      "cell_type": "markdown",
      "metadata": {
        "id": "jJQU7T9r2dCM"
      },
      "source": [],
      "id": "jJQU7T9r2dCM"
    },
    {
      "cell_type": "code",
      "execution_count": null,
      "metadata": {
        "id": "f515a0c1-f62b-4516-873a-81671ece95cc"
      },
      "outputs": [],
      "source": [
        "plt.rcParams['figure.figsize'] = (8.0, 8.0) # set default size of plots\n",
        "plt.rcParams['image.interpolation'] = 'nearest'\n",
        "plt.rcParams['image.cmap'] = 'gray'\n",
        "\n",
        "#np.random.seed(1)"
      ],
      "id": "f515a0c1-f62b-4516-873a-81671ece95cc"
    },
    {
      "cell_type": "markdown",
      "metadata": {
        "id": "a2470be1-1392-46c8-a984-fc75d6b53885"
      },
      "source": [
        "## 1 - Overview of the data set\n",
        "\n",
        "First of all, we'll load the data. After loading, here's a basic overview;\n",
        "\n",
        "- a training set of m_train images labeled as cat (y=1) or non-cat (y=0)\n",
        "- a test set of m_test images labeled as cat or non-cat\n",
        "- each image is of shape (num_px, num_px, 3) where 3 is for the 3 channels (RGB). Thus, each image is square (height = num_px) and (width = num_px)."
      ],
      "id": "a2470be1-1392-46c8-a984-fc75d6b53885"
    },
    {
      "cell_type": "code",
      "execution_count": null,
      "metadata": {
        "id": "1zig29uZQe7J"
      },
      "outputs": [],
      "source": [
        "parent_path = '/content/drive/MyDrive/Deep Learning Course/data'\n",
        "train_dataset = h5py.File(parent_path+'/train.h5', \"r\")"
      ],
      "id": "1zig29uZQe7J"
    },
    {
      "cell_type": "code",
      "execution_count": null,
      "metadata": {
        "id": "GJf1gzVmQe_S"
      },
      "outputs": [],
      "source": [
        "train_set_x_orig = np.array(train_dataset[\"train_set_x\"][:]) # train set features\n",
        "train_set_y_orig = np.array(train_dataset[\"train_set_y\"][:]) # train set labels"
      ],
      "id": "GJf1gzVmQe_S"
    },
    {
      "cell_type": "code",
      "execution_count": null,
      "metadata": {
        "id": "mbkAsKmwQfDT"
      },
      "outputs": [],
      "source": [
        "test_dataset = h5py.File(parent_path+'/test.h5', \"r\")"
      ],
      "id": "mbkAsKmwQfDT"
    },
    {
      "cell_type": "code",
      "execution_count": null,
      "metadata": {
        "id": "Y4FrZqnM9IrA"
      },
      "outputs": [],
      "source": [
        "test_set_x_orig = np.array(test_dataset[\"test_set_x\"][:]) # test set features\n",
        "test_set_y_orig = np.array(test_dataset[\"test_set_y\"][:]) # test set labels"
      ],
      "id": "Y4FrZqnM9IrA"
    },
    {
      "cell_type": "code",
      "execution_count": null,
      "metadata": {
        "colab": {
          "base_uri": "https://localhost:8080/"
        },
        "id": "d39495e5-4d7a-4844-bee1-f88d62e39dcf",
        "outputId": "6e23215a-25a3-4bbe-a335-8f5e42cbf2f9"
      },
      "outputs": [
        {
          "output_type": "execute_result",
          "data": {
            "text/plain": [
              "array([b'non-cat', b'cat'], dtype='|S7')"
            ]
          },
          "metadata": {},
          "execution_count": 36
        }
      ],
      "source": [
        "classes = np.array(test_dataset[\"list_classes\"][:]) # the list of classes\n",
        "classes"
      ],
      "id": "d39495e5-4d7a-4844-bee1-f88d62e39dcf"
    },
    {
      "cell_type": "code",
      "execution_count": null,
      "metadata": {
        "id": "6GjrjXCv-KM5"
      },
      "outputs": [],
      "source": [
        "train_set_y = train_set_y_orig.reshape((1, train_set_y_orig.shape[0]))"
      ],
      "id": "6GjrjXCv-KM5"
    },
    {
      "cell_type": "code",
      "execution_count": null,
      "metadata": {
        "id": "iUetNxCn-O2X"
      },
      "outputs": [],
      "source": [
        "test_set_y = test_set_y_orig.reshape((1, test_set_y_orig.shape[0]))"
      ],
      "id": "iUetNxCn-O2X"
    },
    {
      "cell_type": "code",
      "execution_count": null,
      "metadata": {
        "colab": {
          "base_uri": "https://localhost:8080/"
        },
        "id": "2bdbe6f9-f7d4-485b-82b6-f4e24d524c43",
        "outputId": "d87329ee-892b-4d8e-8c2b-0bbfbe9cf0cc"
      },
      "outputs": [
        {
          "output_type": "stream",
          "name": "stdout",
          "text": [
            "(1, 209)\n",
            "(1, 50)\n"
          ]
        }
      ],
      "source": [
        "\n",
        "print(train_set_y.shape)\n",
        "print(test_set_y.shape)"
      ],
      "id": "2bdbe6f9-f7d4-485b-82b6-f4e24d524c43"
    },
    {
      "cell_type": "markdown",
      "metadata": {
        "id": "d7b71d47-36ce-4bbc-bfd9-384c0042255b"
      },
      "source": [
        "Each line of train_set_x_orig and test_set_x_orig is an array representing an image. You can visualize an example by running the following code. Feel free also to change the index value and re-run to see other images."
      ],
      "id": "d7b71d47-36ce-4bbc-bfd9-384c0042255b"
    },
    {
      "cell_type": "code",
      "execution_count": null,
      "metadata": {
        "colab": {
          "base_uri": "https://localhost:8080/",
          "height": 500
        },
        "id": "55f3cba2-e21d-4912-b84c-f14d861c5b9e",
        "outputId": "9eef6e75-4c68-462f-de3a-49743a6b7462"
      },
      "outputs": [
        {
          "output_type": "stream",
          "name": "stdout",
          "text": [
            "y = [0], it's a 'non-cat' picture.\n"
          ]
        },
        {
          "output_type": "display_data",
          "data": {
            "text/plain": [
              "<Figure size 576x576 with 1 Axes>"
            ],
            "image/png": "[encoded data removed]"
          },
          "metadata": {
            "needs_background": "light"
          }
        }
      ],
      "source": [
        "# Example of a picture\n",
        "index = 70\n",
        "plt.imshow(train_set_x_orig[index])\n",
        "print (\"y = \" + str(train_set_y[:, index]) + \", it's a '\" + classes[np.squeeze(train_set_y[:, index])].decode(\"utf-8\") +  \"' picture.\")"
      ],
      "id": "55f3cba2-e21d-4912-b84c-f14d861c5b9e"
    },
    {
      "cell_type": "code",
      "execution_count": null,
      "metadata": {
        "colab": {
          "base_uri": "https://localhost:8080/",
          "height": 500
        },
        "id": "D6sW-eXD-bWr",
        "outputId": "40ce5ceb-c7aa-46e9-e83d-27f7a3afb475"
      },
      "outputs": [
        {
          "output_type": "stream",
          "name": "stdout",
          "text": [
            "y = [1], it's a 'cat' picture.\n"
          ]
        },
        {
          "output_type": "display_data",
          "data": {
            "text/plain": [
              "<Figure size 576x576 with 1 Axes>"
            ],
            "image/png": "[encoded data removed]"
          },
          "metadata": {
            "needs_background": "light"
          }
        }
      ],
      "source": [
        "# Example of a picture\n",
        "index = 60\n",
        "plt.imshow(train_set_x_orig[index])\n",
        "print (\"y = \" + str(train_set_y[:, index]) + \", it's a '\" + classes[np.squeeze(train_set_y[:, index])].decode(\"utf-8\") +  \"' picture.\")"
      ],
      "id": "D6sW-eXD-bWr"
    },
    {
      "cell_type": "markdown",
      "metadata": {
        "id": "46ff321f-3e90-4a75-a82b-d9d97a6d6d3d"
      },
      "source": [
        "# 2 - Data preprocessing\n",
        "\n",
        "Following are the steps to preprocess data for a ConvNet.\n",
        "\n",
        "- Figure out the dimensions and shapes of the problem (m_train, m_test, num_px, ...)\n",
        "- \"Standardize\" the data\n",
        "- Data Augmentation (will discuss later in the course)\n",
        "\n",
        "Many software bugs in deep learning come from having matrix/vector dimensions that don't fit. If you can keep your matrix/vector dimensions straight you will go a long way toward eliminating many bugs."
      ],
      "id": "46ff321f-3e90-4a75-a82b-d9d97a6d6d3d"
    },
    {
      "cell_type": "markdown",
      "metadata": {
        "id": "5efd1107-cd62-4c95-8205-e8a7fe6e5e39"
      },
      "source": [
        "### 2.1 Dimensions of our data"
      ],
      "id": "5efd1107-cd62-4c95-8205-e8a7fe6e5e39"
    },
    {
      "cell_type": "code",
      "execution_count": null,
      "metadata": {
        "colab": {
          "base_uri": "https://localhost:8080/"
        },
        "id": "TbGbR9xQ_6nv",
        "outputId": "dbdd8877-4883-4c5a-d25b-ec5b45be031c"
      },
      "outputs": [
        {
          "output_type": "stream",
          "name": "stdout",
          "text": [
            "Number of training samples: m_train = 209\n"
          ]
        }
      ],
      "source": [
        "m_train = train_set_x_orig.shape[0]\n",
        "print (\"Number of training samples: m_train = \" + str(m_train))"
      ],
      "id": "TbGbR9xQ_6nv"
    },
    {
      "cell_type": "code",
      "execution_count": null,
      "metadata": {
        "colab": {
          "base_uri": "https://localhost:8080/"
        },
        "id": "FQRhGuCx_741",
        "outputId": "f7304982-47a2-472d-bc2f-c0e416729fe8"
      },
      "outputs": [
        {
          "output_type": "stream",
          "name": "stdout",
          "text": [
            "Number of testing samples: m_test = 50\n"
          ]
        }
      ],
      "source": [
        "m_test = test_set_x_orig.shape[0]\n",
        "print (\"Number of testing samples: m_test = \" + str(m_test))"
      ],
      "id": "FQRhGuCx_741"
    },
    {
      "cell_type": "code",
      "execution_count": null,
      "metadata": {
        "colab": {
          "base_uri": "https://localhost:8080/"
        },
        "id": "OZTdz_EQ_9n7",
        "outputId": "f9722b65-d015-411e-a3ef-fc6692d26a2c"
      },
      "outputs": [
        {
          "output_type": "stream",
          "name": "stdout",
          "text": [
            "Height/Width of each image: num_px = 64\n"
          ]
        }
      ],
      "source": [
        "num_px = train_set_x_orig.shape[1]\n",
        "print (\"Height/Width of each image: num_px = \" + str(num_px))"
      ],
      "id": "OZTdz_EQ_9n7"
    },
    {
      "cell_type": "code",
      "execution_count": null,
      "metadata": {
        "colab": {
          "base_uri": "https://localhost:8080/"
        },
        "id": "GrCKGGWa_9ZE",
        "outputId": "264ea94b-7f0a-4c59-a83b-c195d40ba747"
      },
      "outputs": [
        {
          "output_type": "stream",
          "name": "stdout",
          "text": [
            "Each image is of size: (64, 64, 3)\n"
          ]
        }
      ],
      "source": [
        "print (\"Each image is of size: (\" + str(num_px) + \", \" + str(num_px) + \", 3)\")\n"
      ],
      "id": "GrCKGGWa_9ZE"
    },
    {
      "cell_type": "markdown",
      "metadata": {
        "id": "GJ6xIHYIBLyp"
      },
      "source": [
        "Transport of Y "
      ],
      "id": "GJ6xIHYIBLyp"
    },
    {
      "cell_type": "code",
      "execution_count": null,
      "metadata": {
        "id": "wQFFw8FN_9RU"
      },
      "outputs": [],
      "source": [
        "train_set_y = train_set_y.T"
      ],
      "id": "wQFFw8FN_9RU"
    },
    {
      "cell_type": "code",
      "execution_count": null,
      "metadata": {
        "id": "6LqT3App_9JL"
      },
      "outputs": [],
      "source": [
        "test_set_y = test_set_y.T"
      ],
      "id": "6LqT3App_9JL"
    },
    {
      "cell_type": "markdown",
      "metadata": {
        "id": "joc3dz-xBrmP"
      },
      "source": [
        "Make new Dimenstions"
      ],
      "id": "joc3dz-xBrmP"
    },
    {
      "cell_type": "code",
      "execution_count": null,
      "metadata": {
        "colab": {
          "base_uri": "https://localhost:8080/"
        },
        "id": "d73c6497-9820-4f50-a999-87c40f469e82",
        "outputId": "8ad06617-3b74-436f-a2d7-80a00c422a36"
      },
      "outputs": [
        {
          "output_type": "stream",
          "name": "stdout",
          "text": [
            "train_set_x shape: (209, 64, 64, 3)\n",
            "train_set_y shape: (209, 1)\n",
            "test_set_x shape: (50, 64, 64, 3)\n",
            "test_set_y shape: (50, 1)\n"
          ]
        }
      ],
      "source": [
        "print (\"train_set_x shape: \" + str(train_set_x_orig.shape))\n",
        "print (\"train_set_y shape: \" + str(train_set_y.shape))\n",
        "print (\"test_set_x shape: \" + str(test_set_x_orig.shape))\n",
        "print (\"test_set_y shape: \" + str(test_set_y.shape))"
      ],
      "id": "d73c6497-9820-4f50-a999-87c40f469e82"
    },
    {
      "cell_type": "markdown",
      "metadata": {
        "id": "a1a93dff-0d65-4ffa-a4cd-b4eb00a25a78"
      },
      "source": [
        "### 2.3 Standardizing data\n",
        "\n",
        "One common preprocessing step in machine learning is to center and standardize your dataset, meaning that you substract the mean of the whole numpy array from each example, and then divide each example by the standard deviation of the whole numpy array. But for picture datasets, it is simpler and more convenient and works almost as well to just divide every row of the dataset by 255 (the maximum value of a pixel channel).\n",
        "\n",
        "Let's standardize our dataset."
      ],
      "id": "a1a93dff-0d65-4ffa-a4cd-b4eb00a25a78"
    },
    {
      "cell_type": "code",
      "execution_count": null,
      "metadata": {
        "id": "5fd30a60-b557-43b9-8b15-94d7abf490e5"
      },
      "outputs": [],
      "source": [
        "train_set_x = train_set_x_orig/255.\n",
        "test_set_x = test_set_x_orig/255."
      ],
      "id": "5fd30a60-b557-43b9-8b15-94d7abf490e5"
    },
    {
      "cell_type": "code",
      "execution_count": null,
      "metadata": {
        "colab": {
          "base_uri": "https://localhost:8080/"
        },
        "id": "171c853b-bb92-42ff-aba4-58ef1d7b890e",
        "outputId": "cd472465-2c2f-4b81-d3a1-470f2163b4ab"
      },
      "outputs": [
        {
          "output_type": "execute_result",
          "data": {
            "text/plain": [
              "(209, 64, 64, 3)"
            ]
          },
          "metadata": {},
          "execution_count": 50
        }
      ],
      "source": [
        "train_set_x.shape"
      ],
      "id": "171c853b-bb92-42ff-aba4-58ef1d7b890e"
    },
    {
      "cell_type": "code",
      "execution_count": null,
      "metadata": {
        "colab": {
          "base_uri": "https://localhost:8080/"
        },
        "id": "TMrVo6xJKr4L",
        "outputId": "79f3f4a1-d3d8-431b-cfe7-4ecbb9da85bf"
      },
      "outputs": [
        {
          "output_type": "execute_result",
          "data": {
            "text/plain": [
              "(209, 1)"
            ]
          },
          "metadata": {},
          "execution_count": 51
        }
      ],
      "source": [
        "train_set_y.shape"
      ],
      "id": "TMrVo6xJKr4L"
    },
    {
      "cell_type": "code",
      "execution_count": null,
      "metadata": {
        "colab": {
          "base_uri": "https://localhost:8080/"
        },
        "id": "1ORHfJjPazik",
        "outputId": "0a5604db-d97c-4e5d-c562-7cfc1d271de1"
      },
      "outputs": [
        {
          "output_type": "execute_result",
          "data": {
            "text/plain": [
              "(50, 64, 64, 3)"
            ]
          },
          "metadata": {},
          "execution_count": 52
        }
      ],
      "source": [
        "test_set_x.shape"
      ],
      "id": "1ORHfJjPazik"
    },
    {
      "cell_type": "code",
      "execution_count": null,
      "metadata": {
        "colab": {
          "base_uri": "https://localhost:8080/"
        },
        "id": "iDEhW3Uu72Zw",
        "outputId": "96d2eeb8-4eae-4b6f-f253-00f5ffb950fa"
      },
      "outputs": [
        {
          "output_type": "execute_result",
          "data": {
            "text/plain": [
              "(50, 1)"
            ]
          },
          "metadata": {},
          "execution_count": 53
        }
      ],
      "source": [
        "test_set_y.shape"
      ],
      "id": "iDEhW3Uu72Zw"
    },
    {
      "cell_type": "markdown",
      "metadata": {
        "id": "563440dd-27f5-493a-a089-dbb26caf6a71"
      },
      "source": [
        "## 3 - Modeling"
      ],
      "id": "563440dd-27f5-493a-a089-dbb26caf6a71"
    },
    {
      "cell_type": "markdown",
      "metadata": {
        "id": "91111320-abdf-401d-9913-639dab4f35ec"
      },
      "source": [
        "### 3.1 Utility function to train & evaluate our models."
      ],
      "id": "91111320-abdf-401d-9913-639dab4f35ec"
    },
    {
      "cell_type": "code",
      "execution_count": null,
      "metadata": {
        "id": "dd75af1c-6f7b-435f-a2df-1a90605ce6b5"
      },
      "outputs": [],
      "source": [
        "# Utility function\n",
        "def evaluate_this_model(model, epochs):\n",
        "    \n",
        "    np.random.seed(1)\n",
        "\n",
        "    history = model.fit(train_set_x, train_set_y,epochs=epochs)\n",
        "    results = model.evaluate(test_set_x, test_set_y)\n",
        "    \n",
        "    plt.plot(np.squeeze(history.history[\"loss\"]))\n",
        "    plt.ylabel('cost')\n",
        "    plt.xlabel('iterations (per tens)')\n",
        "    plt.title(\"Learning rate =\" + str(learning_rate))\n",
        "    plt.show()\n",
        "    \n",
        "    print(\"\\n\\nAccuracy on training set is {}\".format(history.history[\"accuracy\"][-1]))\n",
        "    print(\"\\nAccuracy on test set is {}\".format(results[1]))"
      ],
      "id": "dd75af1c-6f7b-435f-a2df-1a90605ce6b5"
    },
    {
      "cell_type": "markdown",
      "metadata": {
        "id": "e9786fba-8843-4c5b-afb6-57ce10a9e255"
      },
      "source": [
        "### 3.2 Model Architecture"
      ],
      "id": "e9786fba-8843-4c5b-afb6-57ce10a9e255"
    },
    {
      "cell_type": "code",
      "execution_count": null,
      "metadata": {
        "colab": {
          "base_uri": "https://localhost:8080/"
        },
        "id": "dcc1a0c0",
        "outputId": "f8fb9fdd-9603-46d7-fc48-e6fe5b3c001b"
      },
      "outputs": [
        {
          "output_type": "stream",
          "name": "stdout",
          "text": [
            "(209, 64, 64, 3) (209, 1)\n"
          ]
        }
      ],
      "source": [
        "print(train_set_x.shape,train_set_y.shape)"
      ],
      "id": "dcc1a0c0"
    },
    {
      "cell_type": "code",
      "execution_count": null,
      "metadata": {
        "id": "d57bcd63-8681-4d90-9958-465becef0b9f"
      },
      "outputs": [],
      "source": [
        "model = Sequential()\n",
        "model.add(Convolution2D(filters=10, kernel_size= 3,padding= 'same', activation = 'relu' , input_shape = (64, 64, 3) ))\n",
        "model.add(MaxPooling2D(pool_size=2, strides=2))\n",
        "model.add(Convolution2D(filters=20 , kernel_size= 3,padding= 'same', activation = 'relu'))\n",
        "model.add(MaxPooling2D(pool_size=2,strides=2))\n",
        "model.add(Convolution2D(filters=40, kernel_size= 3,padding= 'same', activation = 'relu'))\n",
        "model.add(MaxPooling2D(pool_size=2,strides=2))\n",
        "model.add(Flatten())\n",
        "model.add(Dense(75, activation= 'tanh'))\n",
        "model.add(Dense(45, activation= 'tanh'))\n",
        "model.add(Dense(1, activation= 'sigmoid'))\n",
        "#build your convnet here to achieve testing accuracy of around 90%"
      ],
      "id": "d57bcd63-8681-4d90-9958-465becef0b9f"
    },
    {
      "cell_type": "markdown",
      "metadata": {
        "id": "06929f2d-53dc-49b9-a0a9-1c7717612346"
      },
      "source": [
        "### 3.3 Compilation"
      ],
      "id": "06929f2d-53dc-49b9-a0a9-1c7717612346"
    },
    {
      "cell_type": "code",
      "execution_count": null,
      "metadata": {
        "colab": {
          "base_uri": "https://localhost:8080/"
        },
        "id": "0904ba7c-45f8-49a7-a9b4-ec842521182e",
        "outputId": "7fa45578-1917-4621-c7be-4f321ecb0cbf"
      },
      "outputs": [
        {
          "output_type": "stream",
          "name": "stderr",
          "text": [
            "/usr/local/lib/python3.7/dist-packages/keras/optimizers/optimizer_v2/adam.py:110: UserWarning: The `lr` argument is deprecated, use `learning_rate` instead.\n",
            "  super(Adam, self).__init__(name, **kwargs)\n"
          ]
        }
      ],
      "source": [
        "learning_rate = 0.0001\n",
        "opt = Adam(lr=learning_rate)\n",
        "model.compile(optimizer=opt,\n",
        "              loss='binary_crossentropy',\n",
        "              metrics=['accuracy'])"
      ],
      "id": "0904ba7c-45f8-49a7-a9b4-ec842521182e"
    },
    {
      "cell_type": "code",
      "execution_count": null,
      "metadata": {
        "colab": {
          "base_uri": "https://localhost:8080/"
        },
        "id": "414d65ab-7508-4bcd-b503-c0566e145bfa",
        "outputId": "fb1f87bc-09a3-4622-c50e-720882d96fa8"
      },
      "outputs": [
        {
          "output_type": "stream",
          "name": "stdout",
          "text": [
            "Model: \"sequential_2\"\n",
            "_________________________________________________________________\n",
            " Layer (type)                Output Shape              Param #   \n",
            "=================================================================\n",
            " conv2d (Conv2D)             (None, 64, 64, 10)        280       \n",
            "                                                                 \n",
            " max_pooling2d (MaxPooling2D  (None, 32, 32, 10)       0         \n",
            " )                                                               \n",
            "                                                                 \n",
            " conv2d_1 (Conv2D)           (None, 32, 32, 20)        1820      \n",
            "                                                                 \n",
            " max_pooling2d_1 (MaxPooling  (None, 16, 16, 20)       0         \n",
            " 2D)                                                             \n",
            "                                                                 \n",
            " conv2d_2 (Conv2D)           (None, 16, 16, 40)        7240      \n",
            "                                                                 \n",
            " max_pooling2d_2 (MaxPooling  (None, 8, 8, 40)         0         \n",
            " 2D)                                                             \n",
            "                                                                 \n",
            " flatten (Flatten)           (None, 2560)              0         \n",
            "                                                                 \n",
            " dense_12 (Dense)            (None, 75)                192075    \n",
            "                                                                 \n",
            " dense_13 (Dense)            (None, 45)                3420      \n",
            "                                                                 \n",
            " dense_14 (Dense)            (None, 1)                 46        \n",
            "                                                                 \n",
            "=================================================================\n",
            "Total params: 204,881\n",
            "Trainable params: 204,881\n",
            "Non-trainable params: 0\n",
            "_________________________________________________________________\n"
          ]
        }
      ],
      "source": [
        "model.summary()"
      ],
      "id": "414d65ab-7508-4bcd-b503-c0566e145bfa"
    },
    {
      "cell_type": "code",
      "execution_count": null,
      "metadata": {
        "colab": {
          "base_uri": "https://localhost:8080/",
          "height": 1000
        },
        "id": "72c63cb6-00c6-4ab8-a60e-d8a97af7a8d3",
        "outputId": "86d37449-0c3b-426c-c2ec-a5b9e6f8b958"
      },
      "outputs": [
        {
          "output_type": "stream",
          "name": "stdout",
          "text": [
            "Epoch 1/150\n",
            "7/7 [==============================] - 2s 100ms/step - loss: 0.6739 - accuracy: 0.5598\n",
            "Epoch 2/150\n",
            "7/7 [==============================] - 1s 97ms/step - loss: 0.6591 - accuracy: 0.6555\n",
            "Epoch 3/150\n",
            "7/7 [==============================] - 1s 104ms/step - loss: 0.6415 - accuracy: 0.6555\n",
            "Epoch 4/150\n",
            "7/7 [==============================] - 1s 101ms/step - loss: 0.6251 - accuracy: 0.6555\n",
            "Epoch 5/150\n",
            "7/7 [==============================] - 1s 101ms/step - loss: 0.6209 - accuracy: 0.6555\n",
            "Epoch 6/150\n",
            "7/7 [==============================] - 1s 99ms/step - loss: 0.6156 - accuracy: 0.6555\n",
            "Epoch 7/150\n",
            "7/7 [==============================] - 1s 100ms/step - loss: 0.6043 - accuracy: 0.6555\n",
            "Epoch 8/150\n",
            "7/7 [==============================] - 1s 99ms/step - loss: 0.5918 - accuracy: 0.6555\n",
            "Epoch 9/150\n",
            "7/7 [==============================] - 1s 100ms/step - loss: 0.5766 - accuracy: 0.6555\n",
            "Epoch 10/150\n",
            "7/7 [==============================] - 1s 100ms/step - loss: 0.5647 - accuracy: 0.6555\n",
            "Epoch 11/150\n",
            "7/7 [==============================] - 1s 99ms/step - loss: 0.5444 - accuracy: 0.6555\n",
            "Epoch 12/150\n",
            "7/7 [==============================] - 1s 102ms/step - loss: 0.5435 - accuracy: 0.6555\n",
            "Epoch 13/150\n",
            "7/7 [==============================] - 1s 101ms/step - loss: 0.5124 - accuracy: 0.6938\n",
            "Epoch 14/150\n",
            "7/7 [==============================] - 1s 101ms/step - loss: 0.4973 - accuracy: 0.7751\n",
            "Epoch 15/150\n",
            "7/7 [==============================] - 1s 101ms/step - loss: 0.4810 - accuracy: 0.6986\n",
            "Epoch 16/150\n",
            "7/7 [==============================] - 1s 97ms/step - loss: 0.4602 - accuracy: 0.7895\n",
            "Epoch 17/150\n",
            "7/7 [==============================] - 1s 99ms/step - loss: 0.4436 - accuracy: 0.8038\n",
            "Epoch 18/150\n",
            "7/7 [==============================] - 1s 99ms/step - loss: 0.4297 - accuracy: 0.7990\n",
            "Epoch 19/150\n",
            "7/7 [==============================] - 1s 98ms/step - loss: 0.4156 - accuracy: 0.8182\n",
            "Epoch 20/150\n",
            "7/7 [==============================] - 1s 100ms/step - loss: 0.4044 - accuracy: 0.8325\n",
            "Epoch 21/150\n",
            "7/7 [==============================] - 1s 109ms/step - loss: 0.3959 - accuracy: 0.8421\n",
            "Epoch 22/150\n",
            "7/7 [==============================] - 1s 184ms/step - loss: 0.3905 - accuracy: 0.8373\n",
            "Epoch 23/150\n",
            "7/7 [==============================] - 1s 176ms/step - loss: 0.3724 - accuracy: 0.8565\n",
            "Epoch 24/150\n",
            "7/7 [==============================] - 1s 185ms/step - loss: 0.3661 - accuracy: 0.8421\n",
            "Epoch 25/150\n",
            "7/7 [==============================] - 1s 126ms/step - loss: 0.3584 - accuracy: 0.8469\n",
            "Epoch 26/150\n",
            "7/7 [==============================] - 1s 100ms/step - loss: 0.3495 - accuracy: 0.8612\n",
            "Epoch 27/150\n",
            "7/7 [==============================] - 1s 101ms/step - loss: 0.3404 - accuracy: 0.8756\n",
            "Epoch 28/150\n",
            "7/7 [==============================] - 1s 99ms/step - loss: 0.3335 - accuracy: 0.8612\n",
            "Epoch 29/150\n",
            "7/7 [==============================] - 1s 103ms/step - loss: 0.3323 - accuracy: 0.8852\n",
            "Epoch 30/150\n",
            "7/7 [==============================] - 1s 103ms/step - loss: 0.3206 - accuracy: 0.8660\n",
            "Epoch 31/150\n",
            "7/7 [==============================] - 1s 101ms/step - loss: 0.3089 - accuracy: 0.8947\n",
            "Epoch 32/150\n",
            "7/7 [==============================] - 1s 102ms/step - loss: 0.3064 - accuracy: 0.9043\n",
            "Epoch 33/150\n",
            "7/7 [==============================] - 1s 104ms/step - loss: 0.2987 - accuracy: 0.8995\n",
            "Epoch 34/150\n",
            "7/7 [==============================] - 1s 101ms/step - loss: 0.2826 - accuracy: 0.9043\n",
            "Epoch 35/150\n",
            "7/7 [==============================] - 1s 100ms/step - loss: 0.2778 - accuracy: 0.9043\n",
            "Epoch 36/150\n",
            "7/7 [==============================] - 1s 102ms/step - loss: 0.2718 - accuracy: 0.9091\n",
            "Epoch 37/150\n",
            "7/7 [==============================] - 1s 105ms/step - loss: 0.2661 - accuracy: 0.9043\n",
            "Epoch 38/150\n",
            "7/7 [==============================] - 1s 99ms/step - loss: 0.2747 - accuracy: 0.8900\n",
            "Epoch 39/150\n",
            "7/7 [==============================] - 1s 100ms/step - loss: 0.2552 - accuracy: 0.9139\n",
            "Epoch 40/150\n",
            "7/7 [==============================] - 1s 102ms/step - loss: 0.2570 - accuracy: 0.9139\n",
            "Epoch 41/150\n",
            "7/7 [==============================] - 1s 100ms/step - loss: 0.2620 - accuracy: 0.9139\n",
            "Epoch 42/150\n",
            "7/7 [==============================] - 1s 100ms/step - loss: 0.2398 - accuracy: 0.9043\n",
            "Epoch 43/150\n",
            "7/7 [==============================] - 1s 103ms/step - loss: 0.2496 - accuracy: 0.9139\n",
            "Epoch 44/150\n",
            "7/7 [==============================] - 1s 105ms/step - loss: 0.2353 - accuracy: 0.9139\n",
            "Epoch 45/150\n",
            "7/7 [==============================] - 1s 100ms/step - loss: 0.2296 - accuracy: 0.9330\n",
            "Epoch 46/150\n",
            "7/7 [==============================] - 1s 100ms/step - loss: 0.2141 - accuracy: 0.9187\n",
            "Epoch 47/150\n",
            "7/7 [==============================] - 1s 142ms/step - loss: 0.2156 - accuracy: 0.9330\n",
            "Epoch 48/150\n",
            "7/7 [==============================] - 1s 133ms/step - loss: 0.2021 - accuracy: 0.9378\n",
            "Epoch 49/150\n",
            "7/7 [==============================] - 1s 139ms/step - loss: 0.1980 - accuracy: 0.9378\n",
            "Epoch 50/150\n",
            "7/7 [==============================] - 1s 102ms/step - loss: 0.1956 - accuracy: 0.9426\n",
            "Epoch 51/150\n",
            "7/7 [==============================] - 1s 102ms/step - loss: 0.1941 - accuracy: 0.9234\n",
            "Epoch 52/150\n",
            "7/7 [==============================] - 1s 100ms/step - loss: 0.1956 - accuracy: 0.9426\n",
            "Epoch 53/150\n",
            "7/7 [==============================] - 1s 101ms/step - loss: 0.1900 - accuracy: 0.9378\n",
            "Epoch 54/150\n",
            "7/7 [==============================] - 1s 100ms/step - loss: 0.1799 - accuracy: 0.9426\n",
            "Epoch 55/150\n",
            "7/7 [==============================] - 1s 98ms/step - loss: 0.1740 - accuracy: 0.9426\n",
            "Epoch 56/150\n",
            "7/7 [==============================] - 1s 99ms/step - loss: 0.1813 - accuracy: 0.9474\n",
            "Epoch 57/150\n",
            "7/7 [==============================] - 1s 101ms/step - loss: 0.1694 - accuracy: 0.9522\n",
            "Epoch 58/150\n",
            "7/7 [==============================] - 1s 99ms/step - loss: 0.1746 - accuracy: 0.9474\n",
            "Epoch 59/150\n",
            "7/7 [==============================] - 1s 100ms/step - loss: 0.1695 - accuracy: 0.9378\n",
            "Epoch 60/150\n",
            "7/7 [==============================] - 1s 101ms/step - loss: 0.1529 - accuracy: 0.9569\n",
            "Epoch 61/150\n",
            "7/7 [==============================] - 1s 105ms/step - loss: 0.1474 - accuracy: 0.9617\n",
            "Epoch 62/150\n",
            "7/7 [==============================] - 1s 101ms/step - loss: 0.1417 - accuracy: 0.9617\n",
            "Epoch 63/150\n",
            "7/7 [==============================] - 1s 103ms/step - loss: 0.1396 - accuracy: 0.9617\n",
            "Epoch 64/150\n",
            "7/7 [==============================] - 1s 104ms/step - loss: 0.1356 - accuracy: 0.9617\n",
            "Epoch 65/150\n",
            "7/7 [==============================] - 1s 101ms/step - loss: 0.1283 - accuracy: 0.9617\n",
            "Epoch 66/150\n",
            "7/7 [==============================] - 1s 99ms/step - loss: 0.1283 - accuracy: 0.9665\n",
            "Epoch 67/150\n",
            "7/7 [==============================] - 1s 102ms/step - loss: 0.1210 - accuracy: 0.9713\n",
            "Epoch 68/150\n",
            "7/7 [==============================] - 1s 103ms/step - loss: 0.1170 - accuracy: 0.9713\n",
            "Epoch 69/150\n",
            "7/7 [==============================] - 1s 100ms/step - loss: 0.1146 - accuracy: 0.9665\n",
            "Epoch 70/150\n",
            "7/7 [==============================] - 1s 100ms/step - loss: 0.1128 - accuracy: 0.9713\n",
            "Epoch 71/150\n",
            "7/7 [==============================] - 1s 100ms/step - loss: 0.1099 - accuracy: 0.9713\n",
            "Epoch 72/150\n",
            "7/7 [==============================] - 1s 99ms/step - loss: 0.1074 - accuracy: 0.9665\n",
            "Epoch 73/150\n",
            "7/7 [==============================] - 1s 101ms/step - loss: 0.1053 - accuracy: 0.9665\n",
            "Epoch 74/150\n",
            "7/7 [==============================] - 1s 100ms/step - loss: 0.1008 - accuracy: 0.9713\n",
            "Epoch 75/150\n",
            "7/7 [==============================] - 1s 100ms/step - loss: 0.0996 - accuracy: 0.9713\n",
            "Epoch 76/150\n",
            "7/7 [==============================] - 1s 99ms/step - loss: 0.0989 - accuracy: 0.9809\n",
            "Epoch 77/150\n",
            "7/7 [==============================] - 1s 104ms/step - loss: 0.0881 - accuracy: 0.9761\n",
            "Epoch 78/150\n",
            "7/7 [==============================] - 1s 102ms/step - loss: 0.0879 - accuracy: 0.9761\n",
            "Epoch 79/150\n",
            "7/7 [==============================] - 1s 98ms/step - loss: 0.0839 - accuracy: 0.9904\n",
            "Epoch 80/150\n",
            "7/7 [==============================] - 1s 101ms/step - loss: 0.0858 - accuracy: 0.9761\n",
            "Epoch 81/150\n",
            "7/7 [==============================] - 1s 101ms/step - loss: 0.0790 - accuracy: 0.9809\n",
            "Epoch 82/150\n",
            "7/7 [==============================] - 1s 99ms/step - loss: 0.0828 - accuracy: 0.9856\n",
            "Epoch 83/150\n",
            "7/7 [==============================] - 1s 102ms/step - loss: 0.0755 - accuracy: 0.9904\n",
            "Epoch 84/150\n",
            "7/7 [==============================] - 1s 103ms/step - loss: 0.0694 - accuracy: 0.9904\n",
            "Epoch 85/150\n",
            "7/7 [==============================] - 1s 100ms/step - loss: 0.0717 - accuracy: 0.9856\n",
            "Epoch 86/150\n",
            "7/7 [==============================] - 1s 101ms/step - loss: 0.0721 - accuracy: 0.9761\n",
            "Epoch 87/150\n",
            "7/7 [==============================] - 1s 101ms/step - loss: 0.0659 - accuracy: 0.9856\n",
            "Epoch 88/150\n",
            "7/7 [==============================] - 1s 101ms/step - loss: 0.0662 - accuracy: 0.9856\n",
            "Epoch 89/150\n",
            "7/7 [==============================] - 1s 101ms/step - loss: 0.0725 - accuracy: 0.9809\n",
            "Epoch 90/150\n",
            "7/7 [==============================] - 1s 102ms/step - loss: 0.0620 - accuracy: 0.9856\n",
            "Epoch 91/150\n",
            "7/7 [==============================] - 1s 108ms/step - loss: 0.0554 - accuracy: 0.9952\n",
            "Epoch 92/150\n",
            "7/7 [==============================] - 1s 160ms/step - loss: 0.0537 - accuracy: 0.9856\n",
            "Epoch 93/150\n",
            "7/7 [==============================] - 1s 181ms/step - loss: 0.0548 - accuracy: 0.9856\n",
            "Epoch 94/150\n",
            "7/7 [==============================] - 1s 128ms/step - loss: 0.0504 - accuracy: 0.9952\n",
            "Epoch 95/150\n",
            "7/7 [==============================] - 1s 101ms/step - loss: 0.0525 - accuracy: 0.9952\n",
            "Epoch 96/150\n",
            "7/7 [==============================] - 1s 98ms/step - loss: 0.0447 - accuracy: 0.9952\n",
            "Epoch 97/150\n",
            "7/7 [==============================] - 1s 99ms/step - loss: 0.0438 - accuracy: 0.9952\n",
            "Epoch 98/150\n",
            "7/7 [==============================] - 1s 100ms/step - loss: 0.0431 - accuracy: 1.0000\n",
            "Epoch 99/150\n",
            "7/7 [==============================] - 1s 138ms/step - loss: 0.0464 - accuracy: 0.9904\n",
            "Epoch 100/150\n",
            "7/7 [==============================] - 1s 193ms/step - loss: 0.0386 - accuracy: 0.9952\n",
            "Epoch 101/150\n",
            "7/7 [==============================] - 1s 133ms/step - loss: 0.0431 - accuracy: 0.9952\n",
            "Epoch 102/150\n",
            "7/7 [==============================] - 1s 198ms/step - loss: 0.0434 - accuracy: 0.9952\n",
            "Epoch 103/150\n",
            "7/7 [==============================] - 1s 147ms/step - loss: 0.0377 - accuracy: 1.0000\n",
            "Epoch 104/150\n",
            "7/7 [==============================] - 1s 100ms/step - loss: 0.0346 - accuracy: 1.0000\n",
            "Epoch 105/150\n",
            "7/7 [==============================] - 1s 103ms/step - loss: 0.0331 - accuracy: 1.0000\n",
            "Epoch 106/150\n",
            "7/7 [==============================] - 1s 158ms/step - loss: 0.0336 - accuracy: 1.0000\n",
            "Epoch 107/150\n",
            "7/7 [==============================] - 1s 145ms/step - loss: 0.0312 - accuracy: 1.0000\n",
            "Epoch 108/150\n",
            "7/7 [==============================] - 1s 103ms/step - loss: 0.0312 - accuracy: 1.0000\n",
            "Epoch 109/150\n",
            "7/7 [==============================] - 1s 98ms/step - loss: 0.0282 - accuracy: 1.0000\n",
            "Epoch 110/150\n",
            "7/7 [==============================] - 1s 101ms/step - loss: 0.0278 - accuracy: 1.0000\n",
            "Epoch 111/150\n",
            "7/7 [==============================] - 1s 102ms/step - loss: 0.0264 - accuracy: 1.0000\n",
            "Epoch 112/150\n",
            "7/7 [==============================] - 1s 134ms/step - loss: 0.0257 - accuracy: 1.0000\n",
            "Epoch 113/150\n",
            "7/7 [==============================] - 1s 164ms/step - loss: 0.0255 - accuracy: 1.0000\n",
            "Epoch 114/150\n",
            "7/7 [==============================] - 1s 103ms/step - loss: 0.0247 - accuracy: 1.0000\n",
            "Epoch 115/150\n",
            "7/7 [==============================] - 1s 102ms/step - loss: 0.0247 - accuracy: 1.0000\n",
            "Epoch 116/150\n",
            "7/7 [==============================] - 1s 102ms/step - loss: 0.0229 - accuracy: 1.0000\n",
            "Epoch 117/150\n",
            "7/7 [==============================] - 1s 100ms/step - loss: 0.0228 - accuracy: 1.0000\n",
            "Epoch 118/150\n",
            "7/7 [==============================] - 1s 99ms/step - loss: 0.0213 - accuracy: 1.0000\n",
            "Epoch 119/150\n",
            "7/7 [==============================] - 1s 103ms/step - loss: 0.0211 - accuracy: 1.0000\n",
            "Epoch 120/150\n",
            "7/7 [==============================] - 1s 104ms/step - loss: 0.0215 - accuracy: 1.0000\n",
            "Epoch 121/150\n",
            "7/7 [==============================] - 1s 100ms/step - loss: 0.0205 - accuracy: 1.0000\n",
            "Epoch 122/150\n",
            "7/7 [==============================] - 1s 100ms/step - loss: 0.0193 - accuracy: 1.0000\n",
            "Epoch 123/150\n",
            "7/7 [==============================] - 1s 102ms/step - loss: 0.0184 - accuracy: 1.0000\n",
            "Epoch 124/150\n",
            "7/7 [==============================] - 1s 176ms/step - loss: 0.0179 - accuracy: 1.0000\n",
            "Epoch 125/150\n",
            "7/7 [==============================] - 1s 201ms/step - loss: 0.0194 - accuracy: 1.0000\n",
            "Epoch 126/150\n",
            "7/7 [==============================] - 1s 179ms/step - loss: 0.0175 - accuracy: 1.0000\n",
            "Epoch 127/150\n",
            "7/7 [==============================] - 1s 192ms/step - loss: 0.0187 - accuracy: 1.0000\n",
            "Epoch 128/150\n",
            "7/7 [==============================] - 1s 127ms/step - loss: 0.0189 - accuracy: 1.0000\n",
            "Epoch 129/150\n",
            "7/7 [==============================] - 1s 98ms/step - loss: 0.0179 - accuracy: 1.0000\n",
            "Epoch 130/150\n",
            "7/7 [==============================] - 1s 100ms/step - loss: 0.0177 - accuracy: 1.0000\n",
            "Epoch 131/150\n",
            "7/7 [==============================] - 1s 101ms/step - loss: 0.0199 - accuracy: 1.0000\n",
            "Epoch 132/150\n",
            "7/7 [==============================] - 1s 99ms/step - loss: 0.0208 - accuracy: 1.0000\n",
            "Epoch 133/150\n",
            "7/7 [==============================] - 1s 100ms/step - loss: 0.0145 - accuracy: 1.0000\n",
            "Epoch 134/150\n",
            "7/7 [==============================] - 1s 104ms/step - loss: 0.0147 - accuracy: 1.0000\n",
            "Epoch 135/150\n",
            "7/7 [==============================] - 1s 101ms/step - loss: 0.0142 - accuracy: 1.0000\n",
            "Epoch 136/150\n",
            "7/7 [==============================] - 1s 104ms/step - loss: 0.0143 - accuracy: 1.0000\n",
            "Epoch 137/150\n",
            "7/7 [==============================] - 1s 105ms/step - loss: 0.0143 - accuracy: 1.0000\n",
            "Epoch 138/150\n",
            "7/7 [==============================] - 1s 105ms/step - loss: 0.0123 - accuracy: 1.0000\n",
            "Epoch 139/150\n",
            "7/7 [==============================] - 1s 101ms/step - loss: 0.0127 - accuracy: 1.0000\n",
            "Epoch 140/150\n",
            "7/7 [==============================] - 1s 102ms/step - loss: 0.0119 - accuracy: 1.0000\n",
            "Epoch 141/150\n",
            "7/7 [==============================] - 1s 156ms/step - loss: 0.0113 - accuracy: 1.0000\n",
            "Epoch 142/150\n",
            "7/7 [==============================] - 1s 138ms/step - loss: 0.0115 - accuracy: 1.0000\n",
            "Epoch 143/150\n",
            "7/7 [==============================] - 1s 103ms/step - loss: 0.0110 - accuracy: 1.0000\n",
            "Epoch 144/150\n",
            "7/7 [==============================] - 1s 103ms/step - loss: 0.0109 - accuracy: 1.0000\n",
            "Epoch 145/150\n",
            "7/7 [==============================] - 1s 100ms/step - loss: 0.0106 - accuracy: 1.0000\n",
            "Epoch 146/150\n",
            "7/7 [==============================] - 1s 159ms/step - loss: 0.0103 - accuracy: 1.0000\n",
            "Epoch 147/150\n",
            "7/7 [==============================] - 1s 120ms/step - loss: 0.0100 - accuracy: 1.0000\n",
            "Epoch 148/150\n",
            "7/7 [==============================] - 1s 105ms/step - loss: 0.0098 - accuracy: 1.0000\n",
            "Epoch 149/150\n",
            "7/7 [==============================] - 1s 101ms/step - loss: 0.0097 - accuracy: 1.0000\n",
            "Epoch 150/150\n",
            "7/7 [==============================] - 1s 101ms/step - loss: 0.0096 - accuracy: 1.0000\n",
            "2/2 [==============================] - 0s 28ms/step - loss: 0.4774 - accuracy: 0.8800\n"
          ]
        },
        {
          "output_type": "display_data",
          "data": {
            "text/plain": [
              "<Figure size 576x576 with 1 Axes>"
            ],
            "image/png": "[encoded data removed]"
          },
          "metadata": {
            "needs_background": "light"
          }
        },
        {
          "output_type": "stream",
          "name": "stdout",
          "text": [
            "\n",
            "\n",
            "Accuracy on training set is 1.0\n",
            "\n",
            "Accuracy on test set is 0.8799999952316284\n"
          ]
        }
      ],
      "source": [
        "epochs= 150\n",
        "evaluate_this_model(model, epochs)"
      ],
      "id": "72c63cb6-00c6-4ab8-a60e-d8a97af7a8d3"
    },
    {
      "cell_type": "code",
      "source": [
        "model.summary()"
      ],
      "metadata": {
        "colab": {
          "base_uri": "https://localhost:8080/"
        },
        "id": "72RXngQJ8njC",
        "outputId": "5c7881e0-8919-455f-8f22-c53be9404be9"
      },
      "id": "72RXngQJ8njC",
      "execution_count": null,
      "outputs": [
        {
          "output_type": "stream",
          "name": "stdout",
          "text": [
            "Model: \"sequential_2\"\n",
            "_________________________________________________________________\n",
            " Layer (type)                Output Shape              Param #   \n",
            "=================================================================\n",
            " conv2d (Conv2D)             (None, 64, 64, 10)        280       \n",
            "                                                                 \n",
            " max_pooling2d (MaxPooling2D  (None, 32, 32, 10)       0         \n",
            " )                                                               \n",
            "                                                                 \n",
            " conv2d_1 (Conv2D)           (None, 32, 32, 20)        1820      \n",
            "                                                                 \n",
            " max_pooling2d_1 (MaxPooling  (None, 16, 16, 20)       0         \n",
            " 2D)                                                             \n",
            "                                                                 \n",
            " conv2d_2 (Conv2D)           (None, 16, 16, 40)        7240      \n",
            "                                                                 \n",
            " max_pooling2d_2 (MaxPooling  (None, 8, 8, 40)         0         \n",
            " 2D)                                                             \n",
            "                                                                 \n",
            " flatten (Flatten)           (None, 2560)              0         \n",
            "                                                                 \n",
            " dense_12 (Dense)            (None, 75)                192075    \n",
            "                                                                 \n",
            " dense_13 (Dense)            (None, 45)                3420      \n",
            "                                                                 \n",
            " dense_14 (Dense)            (None, 1)                 46        \n",
            "                                                                 \n",
            "=================================================================\n",
            "Total params: 204,881\n",
            "Trainable params: 204,881\n",
            "Non-trainable params: 0\n",
            "_________________________________________________________________\n"
          ]
        }
      ]
    },
    {
      "cell_type": "code",
      "source": [],
      "metadata": {
        "id": "UNg3XDC58ugP"
      },
      "id": "UNg3XDC58ugP",
      "execution_count": null,
      "outputs": []
    }
  ],
  "metadata": {
    "colab": {
      "collapsed_sections": [],
      "provenance": []
    },
    "kernelspec": {
      "display_name": "Python 3",
      "language": "python",
      "name": "python3"
    },
    "language_info": {
      "codemirror_mode": {
        "name": "ipython",
        "version": 3
      },
      "file_extension": ".py",
      "mimetype": "text/x-python",
      "name": "python",
      "nbconvert_exporter": "python",
      "pygments_lexer": "ipython3",
      "version": "3.7.6"
    }
  },
  "nbformat": 4,
  "nbformat_minor": 5
}